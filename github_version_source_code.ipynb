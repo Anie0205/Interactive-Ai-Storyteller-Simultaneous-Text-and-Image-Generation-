{
  "nbformat": 4,
  "nbformat_minor": 0,
  "metadata": {
    "colab": {
      "provenance": [],
      "authorship_tag": "ABX9TyNf7KZHVFMUpNneVpB24bIu",
      "include_colab_link": true
    },
    "kernelspec": {
      "name": "python3",
      "display_name": "Python 3"
    },
    "language_info": {
      "name": "python"
    }
  },
  "cells": [
    {
      "cell_type": "markdown",
      "metadata": {
        "id": "view-in-github",
        "colab_type": "text"
      },
      "source": [
        "<a href=\"https://colab.research.google.com/github/Anie0205/Interactive-Ai-Storyteller-Simultaneous-Text-and-Image-Generation-/blob/main/github_version_source_code.ipynb\" target=\"_parent\"><img src=\"https://colab.research.google.com/assets/colab-badge.svg\" alt=\"Open In Colab\"/></a>"
      ]
    },
    {
      "cell_type": "markdown",
      "source": [
        "# Installation"
      ],
      "metadata": {
        "id": "Qu6dqeHhDw_X"
      }
    },
    {
      "cell_type": "code",
      "source": [
        "# Install the necessary packages\n",
        "!pip install --upgrade --quiet langchain-google-genai pillow"
      ],
      "metadata": {
        "id": "ndHPuSeV7Li-",
        "colab": {
          "base_uri": "https://localhost:8080/"
        },
        "outputId": "946e926c-c82b-4db9-e281-30abab1d1691"
      },
      "execution_count": null,
      "outputs": [
        {
          "output_type": "stream",
          "name": "stdout",
          "text": [
            "\u001b[2K     \u001b[90m━━━━━━━━━━━━━━━━━━━━━━━━━━━━━━━━━━━━━━━━\u001b[0m \u001b[32m4.5/4.5 MB\u001b[0m \u001b[31m34.6 MB/s\u001b[0m eta \u001b[36m0:00:00\u001b[0m\n",
            "\u001b[2K     \u001b[90m━━━━━━━━━━━━━━━━━━━━━━━━━━━━━━━━━━━━━━━━\u001b[0m \u001b[32m137.4/137.4 kB\u001b[0m \u001b[31m14.4 MB/s\u001b[0m eta \u001b[36m0:00:00\u001b[0m\n",
            "\u001b[2K     \u001b[90m━━━━━━━━━━━━━━━━━━━━━━━━━━━━━━━━━━━━━━━━\u001b[0m \u001b[32m273.9/273.9 kB\u001b[0m \u001b[31m22.5 MB/s\u001b[0m eta \u001b[36m0:00:00\u001b[0m\n",
            "\u001b[2K     \u001b[90m━━━━━━━━━━━━━━━━━━━━━━━━━━━━━━━━━━━━━━━━\u001b[0m \u001b[32m86.9/86.9 kB\u001b[0m \u001b[31m7.6 MB/s\u001b[0m eta \u001b[36m0:00:00\u001b[0m\n",
            "\u001b[2K     \u001b[90m━━━━━━━━━━━━━━━━━━━━━━━━━━━━━━━━━━━━━━━━\u001b[0m \u001b[32m53.0/53.0 kB\u001b[0m \u001b[31m4.8 MB/s\u001b[0m eta \u001b[36m0:00:00\u001b[0m\n",
            "\u001b[2K     \u001b[90m━━━━━━━━━━━━━━━━━━━━━━━━━━━━━━━━━━━━━━━━\u001b[0m \u001b[32m144.8/144.8 kB\u001b[0m \u001b[31m14.5 MB/s\u001b[0m eta \u001b[36m0:00:00\u001b[0m\n",
            "\u001b[?25h\u001b[31mERROR: pip's dependency resolver does not currently take into account all the packages that are installed. This behaviour is the source of the following dependency conflicts.\n",
            "imageio 2.31.6 requires pillow<10.1.0,>=8.3.2, but you have pillow 10.2.0 which is incompatible.\u001b[0m\u001b[31m\n",
            "\u001b[0m"
          ]
        }
      ]
    },
    {
      "cell_type": "markdown",
      "source": [
        "# Text Generation:"
      ],
      "metadata": {
        "id": "oetTZdbvDk4m"
      }
    },
    {
      "cell_type": "code",
      "source": [
        "# Import required libraries\n",
        "from langchain_google_genai import ChatGoogleGenerativeAI\n",
        "\n",
        "# Set up your Google API key\n",
        "GOOGLE_API_KEY = \"ENTER_YOUR_GEMINI_API_KEY\"\n",
        "llm = ChatGoogleGenerativeAI(model=\"gemini-pro\", google_api_key=GOOGLE_API_KEY)\n",
        "\n",
        "# Example usage: Generate a story based on a prompt\n",
        "prompt = \"Geberate a story starting with: In a mystical forest, a curious adventurer stumbled upon an ancient artifact.\"\n",
        "result = llm.invoke(prompt)\n",
        "\n",
        "# Print the generated story\n",
        "print(result.content)\n"
      ],
      "metadata": {
        "id": "dWnUUEyh-6e6",
        "colab": {
          "base_uri": "https://localhost:8080/"
        },
        "outputId": "e91eab79-0f11-4447-f336-206f0c8393a9"
      },
      "execution_count": null,
      "outputs": [
        {
          "output_type": "stream",
          "name": "stdout",
          "text": [
            "In a mystical forest where ancient trees whispered secrets and the air shimmered with ethereal energy, a curious adventurer named Anya embarked on a perilous journey. As she ventured deeper into the verdant labyrinth, her keen eyes caught a faint glimmer amidst the gnarled roots of an ancient oak.\n",
            "\n",
            "Cautiously, she approached the object, its surface covered in intricate carvings that seemed to dance before her eyes. As her fingers brushed against the artifact, a surge of energy coursed through her body, illuminating her mind with visions of a bygone era.\n",
            "\n",
            "The artifact, she realized, was a relic of a lost civilization, imbued with the power to unlock secrets long forgotten. With trembling hands, she lifted it from the ground, feeling its weight pull her into a realm of wonder and danger.\n",
            "\n",
            "As Anya ventured further into the forest, the artifact's energy intensified, guiding her footsteps toward a hidden clearing. In the center of the clearing stood a towering monolith, its surface adorned with ancient symbols that throbbed with an otherworldly power.\n",
            "\n",
            "Driven by an unquenchable thirst for knowledge, Anya approached the monolith and placed the artifact on its pedestal. As the two objects touched, a blinding light erupted, casting shadows that danced across the clearing. The ground shook beneath her feet as the monolith revealed its true purpose—a portal to a realm beyond human comprehension.\n"
          ]
        }
      ]
    },
    {
      "cell_type": "markdown",
      "source": [
        "# Image Generation"
      ],
      "metadata": {
        "id": "19ttvOrUDnZX"
      }
    },
    {
      "cell_type": "code",
      "source": [
        "import requests\n",
        "from PIL import Image\n",
        "import io\n",
        "\n",
        "API_URL = \"https://api-inference.huggingface.co/models/CompVis/stable-diffusion-v1-4\"\n",
        "headers = {\"Authorization\": \"Bearer ENTER_YOUR_HF_TOKEN\"}\n",
        "\n",
        "def query(payload):\n",
        "    response = requests.post(API_URL, headers=headers, json=payload)\n",
        "    print(f\"Status Code: {response.status_code}\")  # Check the status code\n",
        "    if response.status_code != 200:\n",
        "        print(f\"Error: {response.text}\")  # Print any error messages\n",
        "    return response.content\n",
        "\n",
        "prompt = \"Astronaut in the ocean\"\n",
        "image_bytes = query({\n",
        "    \"inputs\": prompt,\n",
        "})\n",
        "\n",
        "if image_bytes:\n",
        "    print(f\"Image Bytes Length: {len(image_bytes)}\")  # Verify that image bytes are not empty\n",
        "    image = Image.open(io.BytesIO(image_bytes))\n",
        "    image.show()\n",
        "else:\n",
        "    print(\"No image data received.\")\n",
        "# Save the image to a file\n",
        "image.save('output_image.png')\n",
        "\n",
        "# Inform the user\n",
        "print(\"Image saved as 'output_image.png'. Please check your directory.\")"
      ],
      "metadata": {
        "colab": {
          "base_uri": "https://localhost:8080/"
        },
        "id": "3GbiDKVn3txo",
        "outputId": "720e74c3-ff0a-4d4c-96e3-291b1adeafbd"
      },
      "execution_count": null,
      "outputs": [
        {
          "output_type": "stream",
          "name": "stdout",
          "text": [
            "Status Code: 200\n",
            "Image Bytes Length: 31215\n",
            "Image saved as 'output_image.png'. Please check your directory.\n"
          ]
        }
      ]
    },
    {
      "cell_type": "markdown",
      "source": [
        "# Final Code:"
      ],
      "metadata": {
        "id": "GHImT29fDZ3B"
      }
    },
    {
      "cell_type": "code",
      "source": [
        "# Import required libraries\n",
        "from langchain_google_genai import ChatGoogleGenerativeAI\n",
        "import requests\n",
        "from PIL import Image\n",
        "import io\n",
        "\n",
        "# Set up your Google API key for text generation\n",
        "GOOGLE_API_KEY = \"ENTER_YOUR_GEMINI_API_KEY\"\n",
        "llm = ChatGoogleGenerativeAI(model=\"gemini-pro\", google_api_key=GOOGLE_API_KEY)\n",
        "\n",
        "# Set up your Hugging Face API key for image generation\n",
        "HF_API_KEY = \"ENTER_YOUR_HF_TOKEN\"\n",
        "API_URL = \"https://api-inference.huggingface.co/models/CompVis/stable-diffusion-v1-4\"\n",
        "headers = {\"Authorization\": f\"Bearer {HF_API_KEY}\"}\n",
        "\n",
        "prompt = \"Generate a story starting with: In a mystical forest, a curious adventurer stumbled upon an ancient artifact.\"\n",
        "# Function to generate a story based on a prompt\n",
        "def generate_story(prompt):\n",
        "    result = llm.invoke(prompt)\n",
        "    print(result.content)\n",
        "\n",
        "# Function to generate an image using the Hugging Face API\n",
        "def generate_image(prompt):\n",
        "    payload = {\"inputs\": prompt}\n",
        "    response = requests.post(API_URL, headers=headers, json=payload)\n",
        "    if response.status_code == 200:\n",
        "        return Image.open(io.BytesIO(response.content))\n",
        "    else:\n",
        "        print(f\"Error: {response.text}\")\n",
        "        return None\n",
        "\n",
        "# Interactive storytelling\n",
        "prompt = \"In a mystical forest, a curious adventurer stumbled upon an ancient artifact.\"\n",
        "generate_story(prompt)\n",
        "\n",
        "# Generate an illustration for the story\n",
        "illustration_prompt = \"An illustration of a mystical forest with an adventurer finding an ancient artifact.\"\n",
        "image = generate_image(illustration_prompt)\n",
        "\n",
        "# Display and save the illustration\n",
        "if image:\n",
        "    image.show()\n",
        "    image.save('story_illustration.png')\n",
        "    print(\"Illustration saved as 'story_illustration.png'. Please check your directory.\")\n",
        "else:\n",
        "    print(\"No illustration was generated.\")\n"
      ],
      "metadata": {
        "colab": {
          "base_uri": "https://localhost:8080/"
        },
        "id": "-e1fToQR7vnG",
        "outputId": "9455babb-829c-4c43-9ee5-a27bfa308b50"
      },
      "execution_count": null,
      "outputs": [
        {
          "output_type": "stream",
          "name": "stdout",
          "text": [
            "In the heart of a mystical forest, where ancient trees whispered secrets and dappled sunlight danced upon the forest floor, a curious adventurer named Anya embarked on a solitary journey. As she ventured deeper into the untamed wilderness, the air grew heavy with an otherworldly presence. It was then that her keen eyes caught a glint amidst the gnarled roots of an age-old oak.\n",
            "\n",
            "With trembling hands, Anya brushed away the fallen leaves and unearthed an artifact that seemed to pulse with an ethereal energy. It was a small, intricate disc, its surface adorned with cryptic symbols and runes that seemed to shift and dance before her very eyes. A sense of awe and wonder washed over Anya as she realized this was no ordinary trinket.\n",
            "\n",
            "As she held the ancient artifact, a surge of energy coursed through her body. Visions of the forest's past and future flooded her mind. She saw the rise and fall of civilizations, the dance of nature, and the intricate web of life that connected all things. It was as if the forest itself was whispering its secrets to Anya through this enigmatic object.\n",
            "\n",
            "Empowered by the artifact's magic, Anya felt a deep connection to the forest. She understood the language of the trees, the songs of the birds, and the secrets hidden within the murmuring streams. The forest became her sanctuary, a place where she could commune with nature and discover the hidden wonders that lay beyond the realm of human perception.\n",
            "\n",
            "And so, the curious adventurer became known as the Keeper of the Forest, forever bound to the ancient artifact and the mystical realm it revealed. Through her adventures, Anya shared the wisdom and secrets of the forest with all who crossed her path, reminding them of the interconnectedness of all things and the profound magic that dwelled within the heart of the natural world.\n",
            "Illustration saved as 'story_illustration.png'. Please check your directory.\n"
          ]
        }
      ]
    }
  ]
}
